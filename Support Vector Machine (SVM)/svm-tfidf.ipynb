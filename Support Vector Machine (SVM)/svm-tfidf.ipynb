{
 "cells": [
  {
   "cell_type": "code",
   "execution_count": 1,
   "metadata": {},
   "outputs": [],
   "source": [
    "import pandas as pd\n",
    "from sklearn.feature_extraction.text import TfidfVectorizer\n",
    "from sklearn.model_selection import cross_val_score\n",
    "from sklearn.metrics import classification_report, make_scorer, accuracy_score\n",
    "from sklearn.svm import SVC"
   ]
  },
  {
   "cell_type": "code",
   "execution_count": 2,
   "metadata": {},
   "outputs": [],
   "source": [
    "news = pd.read_csv('Fake.br-Corpus.csv', sep=',')"
   ]
  },
  {
   "cell_type": "code",
   "execution_count": 3,
   "metadata": {},
   "outputs": [],
   "source": [
    "vectorizer = TfidfVectorizer()\n",
    "tfidf_matrix = vectorizer.fit_transform(news['preprocessed_news'])\n",
    "tfidf_dataframe = pd.DataFrame(tfidf_matrix.toarray(),columns=vectorizer.get_feature_names_out())"
   ]
  },
  {
   "cell_type": "code",
   "execution_count": 4,
   "metadata": {},
   "outputs": [],
   "source": [
    "svm = SVC(kernel='linear', gamma='auto')\n",
    "labels = news['label']"
   ]
  },
  {
   "cell_type": "code",
   "execution_count": 5,
   "metadata": {},
   "outputs": [],
   "source": [
    "originalclass = []\n",
    "predictedclass = []\n",
    "\n",
    "def classification_report_folds(y_true, y_pred):\n",
    "    originalclass.extend(y_true)\n",
    "    predictedclass.extend(y_pred)\n",
    "    print(classification_report(y_true, y_pred,digits=4))\n",
    "    return accuracy_score(y_true, y_pred)"
   ]
  },
  {
   "cell_type": "code",
   "execution_count": 6,
   "metadata": {},
   "outputs": [
    {
     "name": "stdout",
     "output_type": "stream",
     "text": [
      "              precision    recall  f1-score   support\n",
      "\n",
      "        fake     0.9671    0.9806    0.9738       360\n",
      "        true     0.9803    0.9667    0.9734       360\n",
      "\n",
      "    accuracy                         0.9736       720\n",
      "   macro avg     0.9737    0.9736    0.9736       720\n",
      "weighted avg     0.9737    0.9736    0.9736       720\n",
      "\n",
      "              precision    recall  f1-score   support\n",
      "\n",
      "        fake     0.9669    0.9722    0.9695       360\n",
      "        true     0.9721    0.9667    0.9694       360\n",
      "\n",
      "    accuracy                         0.9694       720\n",
      "   macro avg     0.9695    0.9694    0.9694       720\n",
      "weighted avg     0.9695    0.9694    0.9694       720\n",
      "\n",
      "              precision    recall  f1-score   support\n",
      "\n",
      "        fake     0.9405    0.9667    0.9534       360\n",
      "        true     0.9657    0.9389    0.9521       360\n",
      "\n",
      "    accuracy                         0.9528       720\n",
      "   macro avg     0.9531    0.9528    0.9528       720\n",
      "weighted avg     0.9531    0.9528    0.9528       720\n",
      "\n",
      "              precision    recall  f1-score   support\n",
      "\n",
      "        fake     0.9623    0.9917    0.9767       360\n",
      "        true     0.9914    0.9611    0.9760       360\n",
      "\n",
      "    accuracy                         0.9764       720\n",
      "   macro avg     0.9768    0.9764    0.9764       720\n",
      "weighted avg     0.9768    0.9764    0.9764       720\n",
      "\n",
      "              precision    recall  f1-score   support\n",
      "\n",
      "        fake     0.9542    0.9833    0.9685       360\n",
      "        true     0.9828    0.9528    0.9676       360\n",
      "\n",
      "    accuracy                         0.9681       720\n",
      "   macro avg     0.9685    0.9681    0.9680       720\n",
      "weighted avg     0.9685    0.9681    0.9680       720\n",
      "\n",
      "              precision    recall  f1-score   support\n",
      "\n",
      "        fake     0.9418    0.9889    0.9648       360\n",
      "        true     0.9883    0.9389    0.9630       360\n",
      "\n",
      "    accuracy                         0.9639       720\n",
      "   macro avg     0.9651    0.9639    0.9639       720\n",
      "weighted avg     0.9651    0.9639    0.9639       720\n",
      "\n",
      "              precision    recall  f1-score   support\n",
      "\n",
      "        fake     0.9666    0.9639    0.9652       360\n",
      "        true     0.9640    0.9667    0.9653       360\n",
      "\n",
      "    accuracy                         0.9653       720\n",
      "   macro avg     0.9653    0.9653    0.9653       720\n",
      "weighted avg     0.9653    0.9653    0.9653       720\n",
      "\n",
      "              precision    recall  f1-score   support\n",
      "\n",
      "        fake     0.9824    0.9278    0.9543       360\n",
      "        true     0.9316    0.9833    0.9568       360\n",
      "\n",
      "    accuracy                         0.9556       720\n",
      "   macro avg     0.9570    0.9556    0.9555       720\n",
      "weighted avg     0.9570    0.9556    0.9555       720\n",
      "\n",
      "              precision    recall  f1-score   support\n",
      "\n",
      "        fake     0.9687    0.9444    0.9564       360\n",
      "        true     0.9458    0.9694    0.9575       360\n",
      "\n",
      "    accuracy                         0.9569       720\n",
      "   macro avg     0.9572    0.9569    0.9569       720\n",
      "weighted avg     0.9572    0.9569    0.9569       720\n",
      "\n",
      "              precision    recall  f1-score   support\n",
      "\n",
      "        fake     0.9642    0.9722    0.9682       360\n",
      "        true     0.9720    0.9639    0.9679       360\n",
      "\n",
      "    accuracy                         0.9681       720\n",
      "   macro avg     0.9681    0.9681    0.9681       720\n",
      "weighted avg     0.9681    0.9681    0.9681       720\n",
      "\n"
     ]
    }
   ],
   "source": [
    "scores = cross_val_score(svm, tfidf_dataframe, labels, cv=10, \\\n",
    "    scoring=make_scorer(classification_report_folds))"
   ]
  },
  {
   "cell_type": "code",
   "execution_count": 7,
   "metadata": {},
   "outputs": [
    {
     "name": "stdout",
     "output_type": "stream",
     "text": [
      "              precision    recall  f1-score   support\n",
      "\n",
      "        fake     0.9612    0.9692    0.9651      7200\n",
      "        true     0.9689    0.9608    0.9649      7200\n",
      "\n",
      "    accuracy                         0.9650     14400\n",
      "   macro avg     0.9650    0.9650    0.9650     14400\n",
      "weighted avg     0.9650    0.9650    0.9650     14400\n",
      "\n"
     ]
    },
    {
     "data": {
      "text/plain": [
       "0.965"
      ]
     },
     "execution_count": 7,
     "metadata": {},
     "output_type": "execute_result"
    }
   ],
   "source": [
    "# Average over cross-validation folds\n",
    "classification_report_folds(originalclass, predictedclass)"
   ]
  },
  {
   "cell_type": "code",
   "execution_count": 8,
   "metadata": {},
   "outputs": [
    {
     "data": {
      "image/png": "[encoded data removed]",
      "text/plain": [
       "<Figure size 640x480 with 1 Axes>"
      ]
     },
     "metadata": {},
     "output_type": "display_data"
    }
   ],
   "source": [
    "from sklearn.metrics import confusion_matrix\n",
    "import matplotlib.pyplot as plt\n",
    "import seaborn as sns\n",
    "\n",
    "cm = confusion_matrix(originalclass, predictedclass)\n",
    "sns.heatmap(cm, square=True, annot=True, cmap='RdBu', cbar=False, \n",
    "            xticklabels=labels.unique(),\n",
    "            yticklabels=labels.unique())\n",
    "\n",
    "plt.xlabel(\"Original class\")\n",
    "plt.ylabel(\"Predicted class\")\n",
    "plt.show()"
   ]
  }
 ],
 "metadata": {
  "kernelspec": {
   "display_name": "Python 3.9.13 64-bit",
   "language": "python",
   "name": "python3"
  },
  "language_info": {
   "codemirror_mode": {
    "name": "ipython",
    "version": 3
   },
   "file_extension": ".py",
   "mimetype": "text/x-python",
   "name": "python",
   "nbconvert_exporter": "python",
   "pygments_lexer": "ipython3",
   "version": "3.9.13"
  },
  "orig_nbformat": 4,
  "vscode": {
   "interpreter": {
    "hash": "4b25ff5ca58e485354f9c6e0414fde2bb6a5ae70e7297d0dec72eac74ca8fc9b"
   }
  }
 },
 "nbformat": 4,
 "nbformat_minor": 2
}

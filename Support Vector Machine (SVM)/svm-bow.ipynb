{
 "cells": [
  {
   "cell_type": "code",
   "execution_count": 1,
   "metadata": {},
   "outputs": [],
   "source": [
    "import pandas as pd\n",
    "from sklearn.model_selection import cross_val_score\n",
    "from sklearn.metrics import classification_report, make_scorer, accuracy_score\n",
    "from sklearn.svm import SVC\n",
    "from sklearn.feature_extraction.text import CountVectorizer"
   ]
  },
  {
   "cell_type": "code",
   "execution_count": 2,
   "metadata": {},
   "outputs": [],
   "source": [
    "news = pd.read_csv('Fake.br-Corpus.csv', sep=',')"
   ]
  },
  {
   "cell_type": "code",
   "execution_count": 3,
   "metadata": {},
   "outputs": [],
   "source": [
    "vectorizer = CountVectorizer()\n",
    "bow_matrix = vectorizer.fit_transform(news['preprocessed_news'])\n",
    "bow_dataframe = pd.DataFrame(bow_matrix.toarray(),columns=vectorizer.get_feature_names_out()) "
   ]
  },
  {
   "cell_type": "code",
   "execution_count": 4,
   "metadata": {},
   "outputs": [],
   "source": [
    "svm = SVC(kernel='linear', gamma='auto')\n",
    "labels = news['label']"
   ]
  },
  {
   "cell_type": "code",
   "execution_count": 5,
   "metadata": {},
   "outputs": [],
   "source": [
    "originalclass = []\n",
    "predictedclass = []\n",
    "\n",
    "def classification_report_folds(y_true, y_pred):\n",
    "    originalclass.extend(y_true)\n",
    "    predictedclass.extend(y_pred)\n",
    "    print(classification_report(y_true, y_pred,digits=4))\n",
    "    return accuracy_score(y_true, y_pred)"
   ]
  },
  {
   "cell_type": "code",
   "execution_count": 6,
   "metadata": {},
   "outputs": [
    {
     "name": "stdout",
     "output_type": "stream",
     "text": [
      "              precision    recall  f1-score   support\n",
      "\n",
      "        fake     0.9538    0.9750    0.9643       360\n",
      "        true     0.9744    0.9528    0.9635       360\n",
      "\n",
      "    accuracy                         0.9639       720\n",
      "   macro avg     0.9641    0.9639    0.9639       720\n",
      "weighted avg     0.9641    0.9639    0.9639       720\n",
      "\n",
      "              precision    recall  f1-score   support\n",
      "\n",
      "        fake     0.9613    0.9667    0.9640       360\n",
      "        true     0.9665    0.9611    0.9638       360\n",
      "\n",
      "    accuracy                         0.9639       720\n",
      "   macro avg     0.9639    0.9639    0.9639       720\n",
      "weighted avg     0.9639    0.9639    0.9639       720\n",
      "\n",
      "              precision    recall  f1-score   support\n",
      "\n",
      "        fake     0.9288    0.9778    0.9526       360\n",
      "        true     0.9765    0.9250    0.9501       360\n",
      "\n",
      "    accuracy                         0.9514       720\n",
      "   macro avg     0.9526    0.9514    0.9514       720\n",
      "weighted avg     0.9526    0.9514    0.9514       720\n",
      "\n",
      "              precision    recall  f1-score   support\n",
      "\n",
      "        fake     0.9393    0.9889    0.9635       360\n",
      "        true     0.9883    0.9361    0.9615       360\n",
      "\n",
      "    accuracy                         0.9625       720\n",
      "   macro avg     0.9638    0.9625    0.9625       720\n",
      "weighted avg     0.9638    0.9625    0.9625       720\n",
      "\n",
      "              precision    recall  f1-score   support\n",
      "\n",
      "        fake     0.9342    0.9861    0.9595       360\n",
      "        true     0.9853    0.9306    0.9571       360\n",
      "\n",
      "    accuracy                         0.9583       720\n",
      "   macro avg     0.9598    0.9583    0.9583       720\n",
      "weighted avg     0.9598    0.9583    0.9583       720\n",
      "\n",
      "              precision    recall  f1-score   support\n",
      "\n",
      "        fake     0.9542    0.9833    0.9685       360\n",
      "        true     0.9828    0.9528    0.9676       360\n",
      "\n",
      "    accuracy                         0.9681       720\n",
      "   macro avg     0.9685    0.9681    0.9680       720\n",
      "weighted avg     0.9685    0.9681    0.9680       720\n",
      "\n",
      "              precision    recall  f1-score   support\n",
      "\n",
      "        fake     0.9673    0.9861    0.9766       360\n",
      "        true     0.9858    0.9667    0.9762       360\n",
      "\n",
      "    accuracy                         0.9764       720\n",
      "   macro avg     0.9766    0.9764    0.9764       720\n",
      "weighted avg     0.9766    0.9764    0.9764       720\n",
      "\n",
      "              precision    recall  f1-score   support\n",
      "\n",
      "        fake     0.9746    0.9583    0.9664       360\n",
      "        true     0.9590    0.9750    0.9669       360\n",
      "\n",
      "    accuracy                         0.9667       720\n",
      "   macro avg     0.9668    0.9667    0.9667       720\n",
      "weighted avg     0.9668    0.9667    0.9667       720\n",
      "\n",
      "              precision    recall  f1-score   support\n",
      "\n",
      "        fake     0.9663    0.9556    0.9609       360\n",
      "        true     0.9560    0.9667    0.9613       360\n",
      "\n",
      "    accuracy                         0.9611       720\n",
      "   macro avg     0.9612    0.9611    0.9611       720\n",
      "weighted avg     0.9612    0.9611    0.9611       720\n",
      "\n",
      "              precision    recall  f1-score   support\n",
      "\n",
      "        fake     0.9614    0.9694    0.9654       360\n",
      "        true     0.9692    0.9611    0.9651       360\n",
      "\n",
      "    accuracy                         0.9653       720\n",
      "   macro avg     0.9653    0.9653    0.9653       720\n",
      "weighted avg     0.9653    0.9653    0.9653       720\n",
      "\n"
     ]
    }
   ],
   "source": [
    "scores = cross_val_score(svm, bow_dataframe, labels, cv=10, scoring=make_scorer(classification_report_folds))"
   ]
  },
  {
   "cell_type": "code",
   "execution_count": 7,
   "metadata": {},
   "outputs": [
    {
     "name": "stdout",
     "output_type": "stream",
     "text": [
      "              precision    recall  f1-score   support\n",
      "\n",
      "        fake     0.9538    0.9747    0.9641      7200\n",
      "        true     0.9742    0.9528    0.9633      7200\n",
      "\n",
      "    accuracy                         0.9637     14400\n",
      "   macro avg     0.9640    0.9637    0.9637     14400\n",
      "weighted avg     0.9640    0.9637    0.9637     14400\n",
      "\n"
     ]
    },
    {
     "data": {
      "text/plain": [
       "0.96375"
      ]
     },
     "execution_count": 7,
     "metadata": {},
     "output_type": "execute_result"
    }
   ],
   "source": [
    "# Average over cross-validation folds\n",
    "classification_report_folds(originalclass, predictedclass)"
   ]
  }
 ],
 "metadata": {
  "kernelspec": {
   "display_name": "Python 3.9.13 64-bit",
   "language": "python",
   "name": "python3"
  },
  "language_info": {
   "codemirror_mode": {
    "name": "ipython",
    "version": 3
   },
   "file_extension": ".py",
   "mimetype": "text/x-python",
   "name": "python",
   "nbconvert_exporter": "python",
   "pygments_lexer": "ipython3",
   "version": "3.9.13"
  },
  "orig_nbformat": 4,
  "vscode": {
   "interpreter": {
    "hash": "4b25ff5ca58e485354f9c6e0414fde2bb6a5ae70e7297d0dec72eac74ca8fc9b"
   }
  }
 },
 "nbformat": 4,
 "nbformat_minor": 2
}

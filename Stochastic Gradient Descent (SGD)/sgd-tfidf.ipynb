{
  "cells": [
    {
      "cell_type": "code",
      "execution_count": 1,
      "metadata": {
        "id": "w5Epvrp6l5E1"
      },
      "outputs": [],
      "source": [
        "from sklearn.feature_extraction.text import TfidfVectorizer\n",
        "from sklearn.linear_model import SGDClassifier\n",
        "from sklearn.model_selection import cross_val_score, KFold\n",
        "from sklearn.metrics import classification_report, make_scorer, accuracy_score\n",
        "import pandas as pd"
      ]
    },
    {
      "cell_type": "code",
      "execution_count": 2,
      "metadata": {
        "id": "RdYPBb4qv_Vp"
      },
      "outputs": [],
      "source": [
        "news = pd.read_csv('Fake.br-Corpus.csv', sep=',')"
      ]
    },
    {
      "cell_type": "code",
      "execution_count": 3,
      "metadata": {
        "id": "-iYuEFG7zQYK"
      },
      "outputs": [],
      "source": [
        "vectorizer = TfidfVectorizer()\n",
        "tfidf_matrix = vectorizer.fit_transform(news['preprocessed_news'])\n",
        "tfidf_dataframe = pd.DataFrame(tfidf_matrix.toarray(),columns=vectorizer.get_feature_names_out())"
      ]
    },
    {
      "cell_type": "code",
      "execution_count": 4,
      "metadata": {
        "id": "iIX7AHGQEgwN"
      },
      "outputs": [],
      "source": [
        "clf = SGDClassifier(loss='hinge',penalty='l2',alpha=0.0001,random_state=0,max_iter=5,tol=None)\n",
        "labels = news[\"label\"]"
      ]
    },
    {
      "cell_type": "code",
      "execution_count": 5,
      "metadata": {},
      "outputs": [],
      "source": [
        "originalclass = []\n",
        "predictedclass = []\n",
        "\n",
        "def classification_report_folds(y_true, y_pred):\n",
        "    originalclass.extend(y_true)\n",
        "    predictedclass.extend(y_pred)\n",
        "    print(classification_report(y_true, y_pred,digits=4))\n",
        "    return accuracy_score(y_true, y_pred)"
      ]
    },
    {
      "cell_type": "code",
      "execution_count": 6,
      "metadata": {},
      "outputs": [
        {
          "name": "stdout",
          "output_type": "stream",
          "text": [
            "              precision    recall  f1-score   support\n",
            "\n",
            "        fake     0.9698    0.9806    0.9751       360\n",
            "        true     0.9803    0.9694    0.9749       360\n",
            "\n",
            "    accuracy                         0.9750       720\n",
            "   macro avg     0.9751    0.9750    0.9750       720\n",
            "weighted avg     0.9751    0.9750    0.9750       720\n",
            "\n",
            "              precision    recall  f1-score   support\n",
            "\n",
            "        fake     0.9538    0.9750    0.9643       360\n",
            "        true     0.9744    0.9528    0.9635       360\n",
            "\n",
            "    accuracy                         0.9639       720\n",
            "   macro avg     0.9641    0.9639    0.9639       720\n",
            "weighted avg     0.9641    0.9639    0.9639       720\n",
            "\n",
            "              precision    recall  f1-score   support\n",
            "\n",
            "        fake     0.9355    0.9667    0.9508       360\n",
            "        true     0.9655    0.9333    0.9492       360\n",
            "\n",
            "    accuracy                         0.9500       720\n",
            "   macro avg     0.9505    0.9500    0.9500       720\n",
            "weighted avg     0.9505    0.9500    0.9500       720\n",
            "\n",
            "              precision    recall  f1-score   support\n",
            "\n",
            "        fake     0.9777    0.9722    0.9749       360\n",
            "        true     0.9724    0.9778    0.9751       360\n",
            "\n",
            "    accuracy                         0.9750       720\n",
            "   macro avg     0.9750    0.9750    0.9750       720\n",
            "weighted avg     0.9750    0.9750    0.9750       720\n",
            "\n",
            "              precision    recall  f1-score   support\n",
            "\n",
            "        fake     0.9492    0.9861    0.9673       360\n",
            "        true     0.9855    0.9472    0.9660       360\n",
            "\n",
            "    accuracy                         0.9667       720\n",
            "   macro avg     0.9674    0.9667    0.9667       720\n",
            "weighted avg     0.9674    0.9667    0.9667       720\n",
            "\n",
            "              precision    recall  f1-score   support\n",
            "\n",
            "        fake     0.9370    0.9917    0.9636       360\n",
            "        true     0.9912    0.9333    0.9614       360\n",
            "\n",
            "    accuracy                         0.9625       720\n",
            "   macro avg     0.9641    0.9625    0.9625       720\n",
            "weighted avg     0.9641    0.9625    0.9625       720\n",
            "\n",
            "              precision    recall  f1-score   support\n",
            "\n",
            "        fake     0.9639    0.9639    0.9639       360\n",
            "        true     0.9639    0.9639    0.9639       360\n",
            "\n",
            "    accuracy                         0.9639       720\n",
            "   macro avg     0.9639    0.9639    0.9639       720\n",
            "weighted avg     0.9639    0.9639    0.9639       720\n",
            "\n",
            "              precision    recall  f1-score   support\n",
            "\n",
            "        fake     0.9738    0.9306    0.9517       360\n",
            "        true     0.9335    0.9750    0.9538       360\n",
            "\n",
            "    accuracy                         0.9528       720\n",
            "   macro avg     0.9537    0.9528    0.9528       720\n",
            "weighted avg     0.9537    0.9528    0.9528       720\n",
            "\n",
            "              precision    recall  f1-score   support\n",
            "\n",
            "        fake     0.9658    0.9417    0.9536       360\n",
            "        true     0.9431    0.9667    0.9547       360\n",
            "\n",
            "    accuracy                         0.9542       720\n",
            "   macro avg     0.9545    0.9542    0.9542       720\n",
            "weighted avg     0.9545    0.9542    0.9542       720\n",
            "\n",
            "              precision    recall  f1-score   support\n",
            "\n",
            "        fake     0.9589    0.9722    0.9655       360\n",
            "        true     0.9718    0.9583    0.9650       360\n",
            "\n",
            "    accuracy                         0.9653       720\n",
            "   macro avg     0.9654    0.9653    0.9653       720\n",
            "weighted avg     0.9654    0.9653    0.9653       720\n",
            "\n"
          ]
        }
      ],
      "source": [
        "score = cross_val_score(clf, tfidf_dataframe, labels, cv=10, \\\n",
        "    scoring=make_scorer(classification_report_folds))"
      ]
    },
    {
      "cell_type": "code",
      "execution_count": 7,
      "metadata": {},
      "outputs": [
        {
          "name": "stdout",
          "output_type": "stream",
          "text": [
            "              precision    recall  f1-score   support\n",
            "\n",
            "        fake     0.9582    0.9681    0.9631      7200\n",
            "        true     0.9677    0.9578    0.9627      7200\n",
            "\n",
            "    accuracy                         0.9629     14400\n",
            "   macro avg     0.9630    0.9629    0.9629     14400\n",
            "weighted avg     0.9630    0.9629    0.9629     14400\n",
            "\n"
          ]
        },
        {
          "data": {
            "text/plain": [
              "0.9629166666666666"
            ]
          },
          "execution_count": 7,
          "metadata": {},
          "output_type": "execute_result"
        }
      ],
      "source": [
        "# Average over cross-validation folds\n",
        "classification_report_folds(originalclass, predictedclass)"
      ]
    }
  ],
  "metadata": {
    "colab": {
      "name": "TfidfSGD.ipynb",
      "provenance": []
    },
    "kernelspec": {
      "display_name": "Python 3.9.13 64-bit",
      "language": "python",
      "name": "python3"
    },
    "language_info": {
      "codemirror_mode": {
        "name": "ipython",
        "version": 3
      },
      "file_extension": ".py",
      "mimetype": "text/x-python",
      "name": "python",
      "nbconvert_exporter": "python",
      "pygments_lexer": "ipython3",
      "version": "3.9.13"
    },
    "vscode": {
      "interpreter": {
        "hash": "4b25ff5ca58e485354f9c6e0414fde2bb6a5ae70e7297d0dec72eac74ca8fc9b"
      }
    }
  },
  "nbformat": 4,
  "nbformat_minor": 0
}

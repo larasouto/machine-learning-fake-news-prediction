{
  "cells": [
    {
      "cell_type": "code",
      "execution_count": 1,
      "metadata": {
        "id": "W4Rkn5_IQIrH"
      },
      "outputs": [],
      "source": [
        "import pandas as pd\n",
        "from sklearn.feature_extraction.text import CountVectorizer\n",
        "from sklearn.linear_model import SGDClassifier\n",
        "from sklearn.model_selection import cross_val_score, KFold\n",
        "from sklearn.metrics import classification_report, make_scorer, accuracy_score"
      ]
    },
    {
      "cell_type": "code",
      "execution_count": 2,
      "metadata": {},
      "outputs": [],
      "source": [
        "news = pd.read_csv(\"Fake.br-Corpus.csv\",sep=\",\")"
      ]
    },
    {
      "cell_type": "code",
      "execution_count": 3,
      "metadata": {
        "id": "MUj8FkSIY0Fy"
      },
      "outputs": [],
      "source": [
        "vectorizer = CountVectorizer()\n",
        "bow_matrix = vectorizer.fit_transform(news['preprocessed_news'])\n",
        "bow_dataframe = pd.DataFrame(bow_matrix.toarray(),columns=vectorizer.get_feature_names_out())"
      ]
    },
    {
      "cell_type": "code",
      "execution_count": 4,
      "metadata": {
        "id": "ThsceOa3v3pH"
      },
      "outputs": [],
      "source": [
        "clf = SGDClassifier(loss='hinge',penalty='l2',alpha=0.0001,random_state=0,max_iter=5,tol=None)\n",
        "labels = news['label']"
      ]
    },
    {
      "cell_type": "code",
      "execution_count": 5,
      "metadata": {},
      "outputs": [],
      "source": [
        "originalclass = []\n",
        "predictedclass = []\n",
        "\n",
        "def classification_report_each_fold(y_true, y_pred):\n",
        "    originalclass.extend(y_true)\n",
        "    predictedclass.extend(y_pred)\n",
        "    print(classification_report(y_true, y_pred,digits=4))\n",
        "    return accuracy_score(y_true, y_pred)"
      ]
    },
    {
      "cell_type": "code",
      "execution_count": 6,
      "metadata": {},
      "outputs": [
        {
          "name": "stdout",
          "output_type": "stream",
          "text": [
            "              precision    recall  f1-score   support\n",
            "\n",
            "        fake     0.9310    0.9750    0.9525       360\n",
            "        true     0.9738    0.9278    0.9502       360\n",
            "\n",
            "    accuracy                         0.9514       720\n",
            "   macro avg     0.9524    0.9514    0.9514       720\n",
            "weighted avg     0.9524    0.9514    0.9514       720\n",
            "\n",
            "              precision    recall  f1-score   support\n",
            "\n",
            "        fake     0.9465    0.9833    0.9646       360\n",
            "        true     0.9827    0.9444    0.9632       360\n",
            "\n",
            "    accuracy                         0.9639       720\n",
            "   macro avg     0.9646    0.9639    0.9639       720\n",
            "weighted avg     0.9646    0.9639    0.9639       720\n",
            "\n",
            "              precision    recall  f1-score   support\n",
            "\n",
            "        fake     0.9255    0.9667    0.9457       360\n",
            "        true     0.9651    0.9222    0.9432       360\n",
            "\n",
            "    accuracy                         0.9444       720\n",
            "   macro avg     0.9453    0.9444    0.9444       720\n",
            "weighted avg     0.9453    0.9444    0.9444       720\n",
            "\n",
            "              precision    recall  f1-score   support\n",
            "\n",
            "        fake     0.9420    0.9917    0.9662       360\n",
            "        true     0.9912    0.9389    0.9643       360\n",
            "\n",
            "    accuracy                         0.9653       720\n",
            "   macro avg     0.9666    0.9653    0.9653       720\n",
            "weighted avg     0.9666    0.9653    0.9653       720\n",
            "\n",
            "              precision    recall  f1-score   support\n",
            "\n",
            "        fake     0.9410    0.9750    0.9577       360\n",
            "        true     0.9741    0.9389    0.9562       360\n",
            "\n",
            "    accuracy                         0.9569       720\n",
            "   macro avg     0.9575    0.9569    0.9569       720\n",
            "weighted avg     0.9575    0.9569    0.9569       720\n",
            "\n",
            "              precision    recall  f1-score   support\n",
            "\n",
            "        fake     0.9316    0.9833    0.9568       360\n",
            "        true     0.9824    0.9278    0.9543       360\n",
            "\n",
            "    accuracy                         0.9556       720\n",
            "   macro avg     0.9570    0.9556    0.9555       720\n",
            "weighted avg     0.9570    0.9556    0.9555       720\n",
            "\n",
            "              precision    recall  f1-score   support\n",
            "\n",
            "        fake     0.9648    0.9889    0.9767       360\n",
            "        true     0.9886    0.9639    0.9761       360\n",
            "\n",
            "    accuracy                         0.9764       720\n",
            "   macro avg     0.9767    0.9764    0.9764       720\n",
            "weighted avg     0.9767    0.9764    0.9764       720\n",
            "\n",
            "              precision    recall  f1-score   support\n",
            "\n",
            "        fake     0.9663    0.9556    0.9609       360\n",
            "        true     0.9560    0.9667    0.9613       360\n",
            "\n",
            "    accuracy                         0.9611       720\n",
            "   macro avg     0.9612    0.9611    0.9611       720\n",
            "weighted avg     0.9612    0.9611    0.9611       720\n",
            "\n",
            "              precision    recall  f1-score   support\n",
            "\n",
            "        fake     0.9563    0.9111    0.9331       360\n",
            "        true     0.9151    0.9583    0.9362       360\n",
            "\n",
            "    accuracy                         0.9347       720\n",
            "   macro avg     0.9357    0.9347    0.9347       720\n",
            "weighted avg     0.9357    0.9347    0.9347       720\n",
            "\n",
            "              precision    recall  f1-score   support\n",
            "\n",
            "        fake     0.9556    0.9556    0.9556       360\n",
            "        true     0.9556    0.9556    0.9556       360\n",
            "\n",
            "    accuracy                         0.9556       720\n",
            "   macro avg     0.9556    0.9556    0.9556       720\n",
            "weighted avg     0.9556    0.9556    0.9556       720\n",
            "\n"
          ]
        }
      ],
      "source": [
        "score = cross_val_score(clf,bow_dataframe,labels,cv=10, \\\n",
        "    scoring=make_scorer(classification_report_each_fold))"
      ]
    },
    {
      "cell_type": "code",
      "execution_count": 7,
      "metadata": {},
      "outputs": [
        {
          "name": "stdout",
          "output_type": "stream",
          "text": [
            "              precision    recall  f1-score   support\n",
            "\n",
            "        fake     0.9458    0.9686    0.9570      7200\n",
            "        true     0.9678    0.9444    0.9560      7200\n",
            "\n",
            "    accuracy                         0.9565     14400\n",
            "   macro avg     0.9568    0.9565    0.9565     14400\n",
            "weighted avg     0.9568    0.9565    0.9565     14400\n",
            "\n"
          ]
        },
        {
          "data": {
            "text/plain": [
              "0.9565277777777778"
            ]
          },
          "execution_count": 7,
          "metadata": {},
          "output_type": "execute_result"
        }
      ],
      "source": [
        "# Average over cross-validation folds\n",
        "classification_report_each_fold(originalclass, predictedclass)"
      ]
    }
  ],
  "metadata": {
    "colab": {
      "collapsed_sections": [],
      "name": "BoWSGD.ipynb",
      "provenance": []
    },
    "kernelspec": {
      "display_name": "Python 3.9.13 64-bit",
      "language": "python",
      "name": "python3"
    },
    "language_info": {
      "codemirror_mode": {
        "name": "ipython",
        "version": 3
      },
      "file_extension": ".py",
      "mimetype": "text/x-python",
      "name": "python",
      "nbconvert_exporter": "python",
      "pygments_lexer": "ipython3",
      "version": "3.9.13"
    },
    "vscode": {
      "interpreter": {
        "hash": "4b25ff5ca58e485354f9c6e0414fde2bb6a5ae70e7297d0dec72eac74ca8fc9b"
      }
    }
  },
  "nbformat": 4,
  "nbformat_minor": 0
}

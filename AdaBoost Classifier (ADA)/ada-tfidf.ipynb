{
  "cells": [
    {
      "cell_type": "code",
      "execution_count": 1,
      "metadata": {
        "id": "OJG62D93oo9v"
      },
      "outputs": [],
      "source": [
        "import pandas as pd\n",
        "from sklearn.feature_extraction.text import TfidfVectorizer\n",
        "from sklearn.model_selection import cross_val_score\n",
        "from sklearn.metrics import classification_report, make_scorer, accuracy_score\n",
        "from sklearn.ensemble import AdaBoostClassifier"
      ]
    },
    {
      "cell_type": "code",
      "execution_count": 2,
      "metadata": {
        "colab": {
          "base_uri": "https://localhost:8080/",
          "height": 206
        },
        "id": "XGyg38kuowWc",
        "outputId": "5e69e80b-c9d5-4832-85ce-7205ff86c879"
      },
      "outputs": [],
      "source": [
        "news = pd.read_csv('Fake.br-Corpus.csv', sep=',')"
      ]
    },
    {
      "cell_type": "code",
      "execution_count": 3,
      "metadata": {
        "id": "9eAabDAUpZXs"
      },
      "outputs": [],
      "source": [
        "tfidf_vectorizer = TfidfVectorizer()\n",
        "tfidf_matrix = tfidf_vectorizer.fit_transform(news['preprocessed_news'])\n",
        "TFIdf_Dataframe = pd.DataFrame(tfidf_matrix.toarray(), columns = tfidf_vectorizer.get_feature_names_out())"
      ]
    },
    {
      "cell_type": "code",
      "execution_count": 4,
      "metadata": {},
      "outputs": [],
      "source": [
        "ada = AdaBoostClassifier(n_estimators=50,\n",
        "                         learning_rate=1)\n",
        "labels = news['label']"
      ]
    },
    {
      "cell_type": "code",
      "execution_count": 5,
      "metadata": {},
      "outputs": [
        {
          "name": "stdout",
          "output_type": "stream",
          "text": [
            "              precision    recall  f1-score   support\n",
            "\n",
            "        fake     0.9477    0.9556    0.9516       360\n",
            "        true     0.9552    0.9472    0.9512       360\n",
            "\n",
            "    accuracy                         0.9514       720\n",
            "   macro avg     0.9514    0.9514    0.9514       720\n",
            "weighted avg     0.9514    0.9514    0.9514       720\n",
            "\n",
            "              precision    recall  f1-score   support\n",
            "\n",
            "        fake     0.9582    0.9556    0.9569       360\n",
            "        true     0.9557    0.9583    0.9570       360\n",
            "\n",
            "    accuracy                         0.9569       720\n",
            "   macro avg     0.9569    0.9569    0.9569       720\n",
            "weighted avg     0.9569    0.9569    0.9569       720\n",
            "\n",
            "              precision    recall  f1-score   support\n",
            "\n",
            "        fake     0.9205    0.9333    0.9269       360\n",
            "        true     0.9324    0.9194    0.9259       360\n",
            "\n",
            "    accuracy                         0.9264       720\n",
            "   macro avg     0.9265    0.9264    0.9264       720\n",
            "weighted avg     0.9265    0.9264    0.9264       720\n",
            "\n",
            "              precision    recall  f1-score   support\n",
            "\n",
            "        fake     0.9211    0.9722    0.9459       360\n",
            "        true     0.9706    0.9167    0.9429       360\n",
            "\n",
            "    accuracy                         0.9444       720\n",
            "   macro avg     0.9458    0.9444    0.9444       720\n",
            "weighted avg     0.9458    0.9444    0.9444       720\n",
            "\n",
            "              precision    recall  f1-score   support\n",
            "\n",
            "        fake     0.9464    0.9806    0.9632       360\n",
            "        true     0.9798    0.9444    0.9618       360\n",
            "\n",
            "    accuracy                         0.9625       720\n",
            "   macro avg     0.9631    0.9625    0.9625       720\n",
            "weighted avg     0.9631    0.9625    0.9625       720\n",
            "\n",
            "              precision    recall  f1-score   support\n",
            "\n",
            "        fake     0.9335    0.9750    0.9538       360\n",
            "        true     0.9738    0.9306    0.9517       360\n",
            "\n",
            "    accuracy                         0.9528       720\n",
            "   macro avg     0.9537    0.9528    0.9528       720\n",
            "weighted avg     0.9537    0.9528    0.9528       720\n",
            "\n",
            "              precision    recall  f1-score   support\n",
            "\n",
            "        fake     0.9482    0.9667    0.9574       360\n",
            "        true     0.9660    0.9472    0.9565       360\n",
            "\n",
            "    accuracy                         0.9569       720\n",
            "   macro avg     0.9571    0.9569    0.9569       720\n",
            "weighted avg     0.9571    0.9569    0.9569       720\n",
            "\n",
            "              precision    recall  f1-score   support\n",
            "\n",
            "        fake     0.9574    0.9361    0.9466       360\n",
            "        true     0.9375    0.9583    0.9478       360\n",
            "\n",
            "    accuracy                         0.9472       720\n",
            "   macro avg     0.9474    0.9472    0.9472       720\n",
            "weighted avg     0.9474    0.9472    0.9472       720\n",
            "\n",
            "              precision    recall  f1-score   support\n",
            "\n",
            "        fake     0.9427    0.9139    0.9281       360\n",
            "        true     0.9164    0.9444    0.9302       360\n",
            "\n",
            "    accuracy                         0.9292       720\n",
            "   macro avg     0.9296    0.9292    0.9292       720\n",
            "weighted avg     0.9296    0.9292    0.9292       720\n",
            "\n",
            "              precision    recall  f1-score   support\n",
            "\n",
            "        fake     0.9408    0.9278    0.9343       360\n",
            "        true     0.9288    0.9417    0.9352       360\n",
            "\n",
            "    accuracy                         0.9347       720\n",
            "   macro avg     0.9348    0.9347    0.9347       720\n",
            "weighted avg     0.9348    0.9347    0.9347       720\n",
            "\n"
          ]
        }
      ],
      "source": [
        "originalclass = []\n",
        "predictedclass = []\n",
        "\n",
        "def classification_report_folds(y_true, y_pred):\n",
        "    originalclass.extend(y_true)\n",
        "    predictedclass.extend(y_pred)\n",
        "    print(classification_report(y_true, y_pred,digits=4))\n",
        "    return accuracy_score(y_true, y_pred)\n",
        "scores = cross_val_score(ada, TFIdf_Dataframe, labels, cv=10, \\\n",
        "    scoring=make_scorer(classification_report_folds))"
      ]
    },
    {
      "cell_type": "code",
      "execution_count": 6,
      "metadata": {},
      "outputs": [
        {
          "name": "stdout",
          "output_type": "stream",
          "text": [
            "              precision    recall  f1-score   support\n",
            "\n",
            "        fake     0.9415    0.9517    0.9465      7200\n",
            "        true     0.9511    0.9408    0.9460      7200\n",
            "\n",
            "    accuracy                         0.9463     14400\n",
            "   macro avg     0.9463    0.9463    0.9462     14400\n",
            "weighted avg     0.9463    0.9463    0.9462     14400\n",
            "\n"
          ]
        },
        {
          "data": {
            "text/plain": [
              "0.94625"
            ]
          },
          "execution_count": 6,
          "metadata": {},
          "output_type": "execute_result"
        }
      ],
      "source": [
        "# Average over cross-validation folds\n",
        "classification_report_folds(originalclass, predictedclass)"
      ]
    }
  ],
  "metadata": {
    "colab": {
      "name": "ada_tfidf.ipynb",
      "provenance": []
    },
    "kernelspec": {
      "display_name": "Python 3.9.13 64-bit",
      "language": "python",
      "name": "python3"
    },
    "language_info": {
      "codemirror_mode": {
        "name": "ipython",
        "version": 3
      },
      "file_extension": ".py",
      "mimetype": "text/x-python",
      "name": "python",
      "nbconvert_exporter": "python",
      "pygments_lexer": "ipython3",
      "version": "3.9.13"
    },
    "vscode": {
      "interpreter": {
        "hash": "4b25ff5ca58e485354f9c6e0414fde2bb6a5ae70e7297d0dec72eac74ca8fc9b"
      }
    }
  },
  "nbformat": 4,
  "nbformat_minor": 0
}

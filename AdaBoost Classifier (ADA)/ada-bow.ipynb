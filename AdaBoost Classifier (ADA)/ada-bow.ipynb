{
  "cells": [
    {
      "cell_type": "code",
      "execution_count": 1,
      "metadata": {
        "id": "Gpubph6sSzuP"
      },
      "outputs": [],
      "source": [
        "import pandas as pd\n",
        "from sklearn.model_selection import cross_val_score\n",
        "from sklearn.metrics import classification_report, make_scorer, accuracy_score\n",
        "from sklearn.ensemble import AdaBoostClassifier\n",
        "from sklearn.feature_extraction.text import CountVectorizer"
      ]
    },
    {
      "cell_type": "code",
      "execution_count": 2,
      "metadata": {
        "colab": {
          "base_uri": "https://localhost:8080/",
          "height": 206
        },
        "id": "7dkLm5UnTYim",
        "outputId": "e46cad18-141b-4bb7-e039-6d6eef89df50"
      },
      "outputs": [],
      "source": [
        "news = pd.read_csv('Fake.br-Corpus.csv', sep=',')"
      ]
    },
    {
      "cell_type": "code",
      "execution_count": 3,
      "metadata": {
        "id": "-puTsPMHTbh4"
      },
      "outputs": [],
      "source": [
        "vectorizer = CountVectorizer()\n",
        "bow_matrix = vectorizer.fit_transform(news['preprocessed_news'])\n",
        "bow_dataframe = pd.DataFrame(bow_matrix.toarray(),columns=vectorizer.get_feature_names_out()) "
      ]
    },
    {
      "cell_type": "code",
      "execution_count": 4,
      "metadata": {},
      "outputs": [],
      "source": [
        "abc = AdaBoostClassifier(n_estimators=50,\n",
        "                         learning_rate=1)\n",
        "labels = news['label']"
      ]
    },
    {
      "cell_type": "code",
      "execution_count": 5,
      "metadata": {
        "id": "oah25lq_Tl8v"
      },
      "outputs": [],
      "source": [
        "originalclass = []\n",
        "predictedclass = []\n",
        "\n",
        "def classification_report_each_fold(y_true, y_pred):\n",
        "    originalclass.extend(y_true)\n",
        "    predictedclass.extend(y_pred)\n",
        "    print(classification_report(y_true, y_pred,digits=4))\n",
        "    return accuracy_score(y_true, y_pred)"
      ]
    },
    {
      "cell_type": "code",
      "execution_count": 6,
      "metadata": {},
      "outputs": [
        {
          "name": "stdout",
          "output_type": "stream",
          "text": [
            "              precision    recall  f1-score   support\n",
            "\n",
            "        fake     0.9326    0.9611    0.9466       360\n",
            "        true     0.9599    0.9306    0.9450       360\n",
            "\n",
            "    accuracy                         0.9458       720\n",
            "   macro avg     0.9462    0.9458    0.9458       720\n",
            "weighted avg     0.9462    0.9458    0.9458       720\n",
            "\n",
            "              precision    recall  f1-score   support\n",
            "\n",
            "        fake     0.9425    0.9556    0.9490       360\n",
            "        true     0.9549    0.9417    0.9483       360\n",
            "\n",
            "    accuracy                         0.9486       720\n",
            "   macro avg     0.9487    0.9486    0.9486       720\n",
            "weighted avg     0.9487    0.9486    0.9486       720\n",
            "\n",
            "              precision    recall  f1-score   support\n",
            "\n",
            "        fake     0.9171    0.9528    0.9346       360\n",
            "        true     0.9509    0.9139    0.9320       360\n",
            "\n",
            "    accuracy                         0.9333       720\n",
            "   macro avg     0.9340    0.9333    0.9333       720\n",
            "weighted avg     0.9340    0.9333    0.9333       720\n",
            "\n",
            "              precision    recall  f1-score   support\n",
            "\n",
            "        fake     0.9261    0.9750    0.9499       360\n",
            "        true     0.9736    0.9222    0.9472       360\n",
            "\n",
            "    accuracy                         0.9486       720\n",
            "   macro avg     0.9499    0.9486    0.9486       720\n",
            "weighted avg     0.9499    0.9486    0.9486       720\n",
            "\n",
            "              precision    recall  f1-score   support\n",
            "\n",
            "        fake     0.9412    0.9778    0.9591       360\n",
            "        true     0.9769    0.9389    0.9575       360\n",
            "\n",
            "    accuracy                         0.9583       720\n",
            "   macro avg     0.9590    0.9583    0.9583       720\n",
            "weighted avg     0.9590    0.9583    0.9583       720\n",
            "\n",
            "              precision    recall  f1-score   support\n",
            "\n",
            "        fake     0.9312    0.9778    0.9539       360\n",
            "        true     0.9766    0.9278    0.9516       360\n",
            "\n",
            "    accuracy                         0.9528       720\n",
            "   macro avg     0.9539    0.9528    0.9527       720\n",
            "weighted avg     0.9539    0.9528    0.9527       720\n",
            "\n",
            "              precision    recall  f1-score   support\n",
            "\n",
            "        fake     0.9512    0.9750    0.9630       360\n",
            "        true     0.9744    0.9500    0.9620       360\n",
            "\n",
            "    accuracy                         0.9625       720\n",
            "   macro avg     0.9628    0.9625    0.9625       720\n",
            "weighted avg     0.9628    0.9625    0.9625       720\n",
            "\n",
            "              precision    recall  f1-score   support\n",
            "\n",
            "        fake     0.9499    0.8944    0.9213       360\n",
            "        true     0.9003    0.9528    0.9258       360\n",
            "\n",
            "    accuracy                         0.9236       720\n",
            "   macro avg     0.9251    0.9236    0.9235       720\n",
            "weighted avg     0.9251    0.9236    0.9235       720\n",
            "\n",
            "              precision    recall  f1-score   support\n",
            "\n",
            "        fake     0.9529    0.9000    0.9257       360\n",
            "        true     0.9053    0.9556    0.9297       360\n",
            "\n",
            "    accuracy                         0.9278       720\n",
            "   macro avg     0.9291    0.9278    0.9277       720\n",
            "weighted avg     0.9291    0.9278    0.9277       720\n",
            "\n",
            "              precision    recall  f1-score   support\n",
            "\n",
            "        fake     0.9489    0.9278    0.9382       360\n",
            "        true     0.9293    0.9500    0.9396       360\n",
            "\n",
            "    accuracy                         0.9389       720\n",
            "   macro avg     0.9391    0.9389    0.9389       720\n",
            "weighted avg     0.9391    0.9389    0.9389       720\n",
            "\n"
          ]
        }
      ],
      "source": [
        "scores = cross_val_score(abc, bow_dataframe, labels, cv=10, scoring=make_scorer(classification_report_each_fold))"
      ]
    },
    {
      "cell_type": "code",
      "execution_count": 7,
      "metadata": {},
      "outputs": [
        {
          "name": "stdout",
          "output_type": "stream",
          "text": [
            "              precision    recall  f1-score   support\n",
            "\n",
            "        fake     0.9390    0.9497    0.9443      7200\n",
            "        true     0.9491    0.9383    0.9437      7200\n",
            "\n",
            "    accuracy                         0.9440     14400\n",
            "   macro avg     0.9441    0.9440    0.9440     14400\n",
            "weighted avg     0.9441    0.9440    0.9440     14400\n",
            "\n"
          ]
        },
        {
          "data": {
            "text/plain": [
              "0.9440277777777778"
            ]
          },
          "execution_count": 7,
          "metadata": {},
          "output_type": "execute_result"
        }
      ],
      "source": [
        "# Average over cross-validation folds \n",
        "classification_report_each_fold(originalclass, predictedclass)"
      ]
    }
  ],
  "metadata": {
    "colab": {
      "collapsed_sections": [],
      "name": "ada_bow.ipynb",
      "provenance": []
    },
    "kernelspec": {
      "display_name": "Python 3.9.13 64-bit",
      "language": "python",
      "name": "python3"
    },
    "language_info": {
      "codemirror_mode": {
        "name": "ipython",
        "version": 3
      },
      "file_extension": ".py",
      "mimetype": "text/x-python",
      "name": "python",
      "nbconvert_exporter": "python",
      "pygments_lexer": "ipython3",
      "version": "3.9.13 (tags/v3.9.13:6de2ca5, May 17 2022, 16:36:42) [MSC v.1929 64 bit (AMD64)]"
    },
    "vscode": {
      "interpreter": {
        "hash": "4b25ff5ca58e485354f9c6e0414fde2bb6a5ae70e7297d0dec72eac74ca8fc9b"
      }
    }
  },
  "nbformat": 4,
  "nbformat_minor": 0
}

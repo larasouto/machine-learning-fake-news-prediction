{
  "cells": [
    {
      "cell_type": "code",
      "execution_count": 1,
      "metadata": {
        "id": "3KWXaAg6kIyf"
      },
      "outputs": [],
      "source": [
        "import pandas as pd\n",
        "from sklearn.model_selection import cross_val_score\n",
        "from sklearn.metrics import classification_report, make_scorer, accuracy_score\n",
        "from sklearn.naive_bayes import MultinomialNB \n",
        "from sklearn.feature_extraction.text import CountVectorizer"
      ]
    },
    {
      "cell_type": "code",
      "execution_count": 2,
      "metadata": {
        "id": "YykgQEJCk8fp"
      },
      "outputs": [],
      "source": [
        "news = pd.read_csv('Fake.br-Corpus.csv', sep=',')"
      ]
    },
    {
      "cell_type": "code",
      "execution_count": 3,
      "metadata": {
        "colab": {
          "base_uri": "https://localhost:8080/",
          "height": 236
        },
        "id": "wZme5xL3lzO0",
        "outputId": "bdd73f4c-7dca-49c9-f7cf-cc7c0a8a4ffc"
      },
      "outputs": [],
      "source": [
        "vectorizer = CountVectorizer()\n",
        "bow_matrix = vectorizer.fit_transform(news['preprocessed_news'])\n",
        "bow_dataframe = pd.DataFrame(bow_matrix.toarray(),columns=vectorizer.get_feature_names_out()) "
      ]
    },
    {
      "cell_type": "code",
      "execution_count": 4,
      "metadata": {
        "id": "tIqsP-34rc0O"
      },
      "outputs": [],
      "source": [
        "nb = MultinomialNB()\n",
        "labels = news['label']"
      ]
    },
    {
      "cell_type": "code",
      "execution_count": 5,
      "metadata": {
        "id": "YpJZqroJZKRG"
      },
      "outputs": [],
      "source": [
        "originalclass = []\n",
        "predictedclass = []\n",
        "\n",
        "def classification_report_folds(y_true, y_pred):\n",
        "    originalclass.extend(y_true)\n",
        "    predictedclass.extend(y_pred)\n",
        "    print(classification_report(y_true, y_pred,digits=4))\n",
        "    return accuracy_score(y_true, y_pred)"
      ]
    },
    {
      "cell_type": "code",
      "execution_count": 6,
      "metadata": {
        "colab": {
          "base_uri": "https://localhost:8080/"
        },
        "id": "ZPGs_kEDZKI9",
        "outputId": "a33ddb39-5089-4044-eaa2-8cf630496a85"
      },
      "outputs": [
        {
          "name": "stdout",
          "output_type": "stream",
          "text": [
            "              precision    recall  f1-score   support\n",
            "\n",
            "        fake     0.9529    0.6750    0.7902       360\n",
            "        true     0.7484    0.9667    0.8436       360\n",
            "\n",
            "    accuracy                         0.8208       720\n",
            "   macro avg     0.8507    0.8208    0.8169       720\n",
            "weighted avg     0.8507    0.8208    0.8169       720\n",
            "\n",
            "              precision    recall  f1-score   support\n",
            "\n",
            "        fake     0.9356    0.6861    0.7917       360\n",
            "        true     0.7522    0.9528    0.8407       360\n",
            "\n",
            "    accuracy                         0.8194       720\n",
            "   macro avg     0.8439    0.8194    0.8162       720\n",
            "weighted avg     0.8439    0.8194    0.8162       720\n",
            "\n",
            "              precision    recall  f1-score   support\n",
            "\n",
            "        fake     0.9394    0.6889    0.7949       360\n",
            "        true     0.7544    0.9556    0.8431       360\n",
            "\n",
            "    accuracy                         0.8222       720\n",
            "   macro avg     0.8469    0.8222    0.8190       720\n",
            "weighted avg     0.8469    0.8222    0.8190       720\n",
            "\n",
            "              precision    recall  f1-score   support\n",
            "\n",
            "        fake     0.9267    0.7722    0.8424       360\n",
            "        true     0.8048    0.9389    0.8667       360\n",
            "\n",
            "    accuracy                         0.8556       720\n",
            "   macro avg     0.8657    0.8556    0.8545       720\n",
            "weighted avg     0.8657    0.8556    0.8545       720\n",
            "\n",
            "              precision    recall  f1-score   support\n",
            "\n",
            "        fake     0.9639    0.7417    0.8383       360\n",
            "        true     0.7901    0.9722    0.8717       360\n",
            "\n",
            "    accuracy                         0.8569       720\n",
            "   macro avg     0.8770    0.8569    0.8550       720\n",
            "weighted avg     0.8770    0.8569    0.8550       720\n",
            "\n",
            "              precision    recall  f1-score   support\n",
            "\n",
            "        fake     0.9364    0.7361    0.8243       360\n",
            "        true     0.7826    0.9500    0.8582       360\n",
            "\n",
            "    accuracy                         0.8431       720\n",
            "   macro avg     0.8595    0.8431    0.8412       720\n",
            "weighted avg     0.8595    0.8431    0.8412       720\n",
            "\n",
            "              precision    recall  f1-score   support\n",
            "\n",
            "        fake     0.9676    0.6639    0.7875       360\n",
            "        true     0.7442    0.9778    0.8451       360\n",
            "\n",
            "    accuracy                         0.8208       720\n",
            "   macro avg     0.8559    0.8208    0.8163       720\n",
            "weighted avg     0.8559    0.8208    0.8163       720\n",
            "\n",
            "              precision    recall  f1-score   support\n",
            "\n",
            "        fake     0.9858    0.5806    0.7308       360\n",
            "        true     0.7028    0.9917    0.8226       360\n",
            "\n",
            "    accuracy                         0.7861       720\n",
            "   macro avg     0.8443    0.7861    0.7767       720\n",
            "weighted avg     0.8443    0.7861    0.7767       720\n",
            "\n",
            "              precision    recall  f1-score   support\n",
            "\n",
            "        fake     0.9192    0.7583    0.8311       360\n",
            "        true     0.7943    0.9333    0.8582       360\n",
            "\n",
            "    accuracy                         0.8458       720\n",
            "   macro avg     0.8568    0.8458    0.8446       720\n",
            "weighted avg     0.8568    0.8458    0.8446       720\n",
            "\n",
            "              precision    recall  f1-score   support\n",
            "\n",
            "        fake     0.9013    0.7861    0.8398       360\n",
            "        true     0.8103    0.9139    0.8590       360\n",
            "\n",
            "    accuracy                         0.8500       720\n",
            "   macro avg     0.8558    0.8500    0.8494       720\n",
            "weighted avg     0.8558    0.8500    0.8494       720\n",
            "\n"
          ]
        }
      ],
      "source": [
        "scores = cross_val_score(nb, bow_dataframe, labels, cv=10, scoring=make_scorer(classification_report_folds))"
      ]
    },
    {
      "cell_type": "code",
      "execution_count": 9,
      "metadata": {},
      "outputs": [
        {
          "name": "stdout",
          "output_type": "stream",
          "text": [
            "              precision    recall  f1-score   support\n",
            "\n",
            "        fake     0.9407    0.7089    0.8085     14400\n",
            "        true     0.7664    0.9553    0.8505     14400\n",
            "\n",
            "    accuracy                         0.8321     28800\n",
            "   macro avg     0.8535    0.8321    0.8295     28800\n",
            "weighted avg     0.8535    0.8321    0.8295     28800\n",
            "\n"
          ]
        },
        {
          "data": {
            "text/plain": [
              "0.8320833333333333"
            ]
          },
          "execution_count": 9,
          "metadata": {},
          "output_type": "execute_result"
        }
      ],
      "source": [
        "# Average over cross-validation folds \n",
        "classification_report_folds(originalclass, predictedclass)"
      ]
    }
  ],
  "metadata": {
    "colab": {
      "name": "BoW e Naive.ipynb",
      "provenance": []
    },
    "kernelspec": {
      "display_name": "Python 3.9.13 64-bit",
      "language": "python",
      "name": "python3"
    },
    "language_info": {
      "codemirror_mode": {
        "name": "ipython",
        "version": 3
      },
      "file_extension": ".py",
      "mimetype": "text/x-python",
      "name": "python",
      "nbconvert_exporter": "python",
      "pygments_lexer": "ipython3",
      "version": "3.9.13"
    },
    "vscode": {
      "interpreter": {
        "hash": "4b25ff5ca58e485354f9c6e0414fde2bb6a5ae70e7297d0dec72eac74ca8fc9b"
      }
    }
  },
  "nbformat": 4,
  "nbformat_minor": 0
}

{
  "cells": [
    {
      "cell_type": "code",
      "execution_count": 1,
      "metadata": {
        "id": "q7tP0TNxwjBh"
      },
      "outputs": [],
      "source": [
        "import pandas as pd\n",
        "from sklearn.feature_extraction.text import TfidfVectorizer\n",
        "from sklearn.model_selection import cross_val_score\n",
        "from sklearn.metrics import classification_report, make_scorer, accuracy_score\n",
        "from sklearn.naive_bayes import MultinomialNB "
      ]
    },
    {
      "cell_type": "code",
      "execution_count": 2,
      "metadata": {
        "id": "b71BmUL-_sZ2"
      },
      "outputs": [],
      "source": [
        "news = pd.read_csv('Fake.br-Corpus.csv', sep=',')"
      ]
    },
    {
      "cell_type": "code",
      "execution_count": 3,
      "metadata": {
        "colab": {
          "base_uri": "https://localhost:8080/",
          "height": 206
        },
        "id": "uWLIaTjAwnut",
        "outputId": "320f0673-53eb-4b6a-b62a-b1a6153cc44e"
      },
      "outputs": [],
      "source": [
        "vectorizer = TfidfVectorizer()\n",
        "tfidf_matrix = vectorizer.fit_transform(news['preprocessed_news'])\n",
        "tfidf_dataframe = pd.DataFrame(tfidf_matrix.toarray(),columns=vectorizer.get_feature_names_out())"
      ]
    },
    {
      "cell_type": "code",
      "execution_count": 4,
      "metadata": {
        "colab": {
          "base_uri": "https://localhost:8080/",
          "height": 236
        },
        "id": "GYC8YkTwwwS8",
        "outputId": "8581709c-b60f-4759-b6b9-fd7869618a42"
      },
      "outputs": [],
      "source": [
        "nb = MultinomialNB()\n",
        "labels = news['label']"
      ]
    },
    {
      "cell_type": "code",
      "execution_count": 5,
      "metadata": {
        "id": "wuZebJ-zMyYG"
      },
      "outputs": [],
      "source": [
        "originalclass = []\n",
        "predictedclass = []\n",
        "\n",
        "def classification_report_folds(y_true, y_pred):\n",
        "    originalclass.extend(y_true)\n",
        "    predictedclass.extend(y_pred)\n",
        "    print(classification_report(y_true, y_pred,digits=4))\n",
        "    return accuracy_score(y_true, y_pred)"
      ]
    },
    {
      "cell_type": "code",
      "execution_count": 6,
      "metadata": {
        "colab": {
          "base_uri": "https://localhost:8080/"
        },
        "id": "9WckZ_i6NgHl",
        "outputId": "351d55c3-7c25-4ef5-b4cb-833abc9ef2b2"
      },
      "outputs": [
        {
          "name": "stdout",
          "output_type": "stream",
          "text": [
            "              precision    recall  f1-score   support\n",
            "\n",
            "        fake     0.9844    0.1750    0.2972       360\n",
            "        true     0.5473    0.9972    0.7067       360\n",
            "\n",
            "    accuracy                         0.5861       720\n",
            "   macro avg     0.7658    0.5861    0.5019       720\n",
            "weighted avg     0.7658    0.5861    0.5019       720\n",
            "\n",
            "              precision    recall  f1-score   support\n",
            "\n",
            "        fake     0.9846    0.1778    0.3012       360\n",
            "        true     0.5481    0.9972    0.7074       360\n",
            "\n",
            "    accuracy                         0.5875       720\n",
            "   macro avg     0.7664    0.5875    0.5043       720\n",
            "weighted avg     0.7664    0.5875    0.5043       720\n",
            "\n",
            "              precision    recall  f1-score   support\n",
            "\n",
            "        fake     1.0000    0.2222    0.3636       360\n",
            "        true     0.5625    1.0000    0.7200       360\n",
            "\n",
            "    accuracy                         0.6111       720\n",
            "   macro avg     0.7812    0.6111    0.5418       720\n",
            "weighted avg     0.7812    0.6111    0.5418       720\n",
            "\n",
            "              precision    recall  f1-score   support\n",
            "\n",
            "        fake     0.9907    0.2972    0.4573       360\n",
            "        true     0.5866    0.9972    0.7387       360\n",
            "\n",
            "    accuracy                         0.6472       720\n",
            "   macro avg     0.7887    0.6472    0.5980       720\n",
            "weighted avg     0.7887    0.6472    0.5980       720\n",
            "\n",
            "              precision    recall  f1-score   support\n",
            "\n",
            "        fake     0.9878    0.2250    0.3665       360\n",
            "        true     0.5627    0.9972    0.7194       360\n",
            "\n",
            "    accuracy                         0.6111       720\n",
            "   macro avg     0.7753    0.6111    0.5430       720\n",
            "weighted avg     0.7753    0.6111    0.5430       720\n",
            "\n",
            "              precision    recall  f1-score   support\n",
            "\n",
            "        fake     0.9896    0.2639    0.4167       360\n",
            "        true     0.5753    0.9972    0.7297       360\n",
            "\n",
            "    accuracy                         0.6306       720\n",
            "   macro avg     0.7825    0.6306    0.5732       720\n",
            "weighted avg     0.7825    0.6306    0.5732       720\n",
            "\n",
            "              precision    recall  f1-score   support\n",
            "\n",
            "        fake     1.0000    0.2028    0.3372       360\n",
            "        true     0.5564    1.0000    0.7150       360\n",
            "\n",
            "    accuracy                         0.6014       720\n",
            "   macro avg     0.7782    0.6014    0.5261       720\n",
            "weighted avg     0.7782    0.6014    0.5261       720\n",
            "\n",
            "              precision    recall  f1-score   support\n",
            "\n",
            "        fake     1.0000    0.1583    0.2734       360\n",
            "        true     0.5430    1.0000    0.7038       360\n",
            "\n",
            "    accuracy                         0.5792       720\n",
            "   macro avg     0.7715    0.5792    0.4886       720\n",
            "weighted avg     0.7715    0.5792    0.4886       720\n",
            "\n",
            "              precision    recall  f1-score   support\n",
            "\n",
            "        fake     1.0000    0.2333    0.3784       360\n",
            "        true     0.5660    1.0000    0.7229       360\n",
            "\n",
            "    accuracy                         0.6167       720\n",
            "   macro avg     0.7830    0.6167    0.5506       720\n",
            "weighted avg     0.7830    0.6167    0.5506       720\n",
            "\n",
            "              precision    recall  f1-score   support\n",
            "\n",
            "        fake     1.0000    0.2083    0.3448       360\n",
            "        true     0.5581    1.0000    0.7164       360\n",
            "\n",
            "    accuracy                         0.6042       720\n",
            "   macro avg     0.7791    0.6042    0.5306       720\n",
            "weighted avg     0.7791    0.6042    0.5306       720\n",
            "\n"
          ]
        }
      ],
      "source": [
        "scores = cross_val_score(nb, tfidf_dataframe, labels, cv=10, \\\n",
        "    scoring=make_scorer(classification_report_folds))"
      ]
    },
    {
      "cell_type": "code",
      "execution_count": 7,
      "metadata": {
        "colab": {
          "base_uri": "https://localhost:8080/"
        },
        "id": "WFY_mie5-vks",
        "outputId": "6e954508-a39e-478b-e5d9-ad06d496edf8"
      },
      "outputs": [
        {
          "name": "stdout",
          "output_type": "stream",
          "text": [
            "              precision    recall  f1-score   support\n",
            "\n",
            "        fake     0.9936    0.2164    0.3554      7200\n",
            "        true     0.5603    0.9986    0.7179      7200\n",
            "\n",
            "    accuracy                         0.6075     14400\n",
            "   macro avg     0.7770    0.6075    0.5366     14400\n",
            "weighted avg     0.7770    0.6075    0.5366     14400\n",
            "\n"
          ]
        },
        {
          "data": {
            "text/plain": [
              "0.6075"
            ]
          },
          "execution_count": 7,
          "metadata": {},
          "output_type": "execute_result"
        }
      ],
      "source": [
        "# Average over cross-validation folds\n",
        "classification_report_folds(originalclass, predictedclass)"
      ]
    }
  ],
  "metadata": {
    "colab": {
      "collapsed_sections": [],
      "name": "TFIDF e Naive.ipynb",
      "provenance": []
    },
    "kernelspec": {
      "display_name": "Python 3.9.13 64-bit",
      "language": "python",
      "name": "python3"
    },
    "language_info": {
      "codemirror_mode": {
        "name": "ipython",
        "version": 3
      },
      "file_extension": ".py",
      "mimetype": "text/x-python",
      "name": "python",
      "nbconvert_exporter": "python",
      "pygments_lexer": "ipython3",
      "version": "3.9.13"
    },
    "vscode": {
      "interpreter": {
        "hash": "4b25ff5ca58e485354f9c6e0414fde2bb6a5ae70e7297d0dec72eac74ca8fc9b"
      }
    }
  },
  "nbformat": 4,
  "nbformat_minor": 0
}

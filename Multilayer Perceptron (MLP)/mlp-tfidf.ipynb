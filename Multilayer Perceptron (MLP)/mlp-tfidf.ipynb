{
 "cells": [
  {
   "cell_type": "code",
   "execution_count": 1,
   "metadata": {},
   "outputs": [],
   "source": [
    "\n",
    "import pandas as pd\n",
    "from sklearn.neural_network import MLPClassifier\n",
    "from sklearn.feature_extraction.text import TfidfVectorizer\n",
    "from sklearn.model_selection import cross_val_score\n",
    "from sklearn.metrics import classification_report, make_scorer, accuracy_score"
   ]
  },
  {
   "cell_type": "code",
   "execution_count": 2,
   "metadata": {},
   "outputs": [],
   "source": [
    "news = pd.read_csv('Fake.br-Corpus.csv', sep=',')"
   ]
  },
  {
   "cell_type": "code",
   "execution_count": 3,
   "metadata": {},
   "outputs": [],
   "source": [
    "vectorizer = TfidfVectorizer()\n",
    "tfidf_matrix = vectorizer.fit_transform(news['preprocessed_news'])\n",
    "tfidf_dataframe = pd.DataFrame(tfidf_matrix.toarray(),columns=vectorizer.get_feature_names_out())"
   ]
  },
  {
   "cell_type": "code",
   "execution_count": 4,
   "metadata": {},
   "outputs": [],
   "source": [
    "mlp_clf = MLPClassifier()\n",
    "labels = news['label']"
   ]
  },
  {
   "cell_type": "code",
   "execution_count": 5,
   "metadata": {},
   "outputs": [],
   "source": [
    "originalclass = []\n",
    "predictedclass = []\n",
    "\n",
    "def classification_report_folds(y_true, y_pred):\n",
    "    originalclass.extend(y_true)\n",
    "    predictedclass.extend(y_pred)\n",
    "    print(classification_report(y_true, y_pred,digits=4))\n",
    "    return accuracy_score(y_true, y_pred)"
   ]
  },
  {
   "cell_type": "code",
   "execution_count": 6,
   "metadata": {},
   "outputs": [
    {
     "name": "stdout",
     "output_type": "stream",
     "text": [
      "              precision    recall  f1-score   support\n",
      "\n",
      "        fake     0.9713    0.9417    0.9563       360\n",
      "        true     0.9434    0.9722    0.9576       360\n",
      "\n",
      "    accuracy                         0.9569       720\n",
      "   macro avg     0.9574    0.9569    0.9569       720\n",
      "weighted avg     0.9574    0.9569    0.9569       720\n",
      "\n",
      "              precision    recall  f1-score   support\n",
      "\n",
      "        fake     0.9828    0.9500    0.9661       360\n",
      "        true     0.9516    0.9833    0.9672       360\n",
      "\n",
      "    accuracy                         0.9667       720\n",
      "   macro avg     0.9672    0.9667    0.9667       720\n",
      "weighted avg     0.9672    0.9667    0.9667       720\n",
      "\n",
      "              precision    recall  f1-score   support\n",
      "\n",
      "        fake     0.9581    0.9528    0.9554       360\n",
      "        true     0.9530    0.9583    0.9557       360\n",
      "\n",
      "    accuracy                         0.9556       720\n",
      "   macro avg     0.9556    0.9556    0.9556       720\n",
      "weighted avg     0.9556    0.9556    0.9556       720\n",
      "\n",
      "              precision    recall  f1-score   support\n",
      "\n",
      "        fake     0.9697    0.9778    0.9737       360\n",
      "        true     0.9776    0.9694    0.9735       360\n",
      "\n",
      "    accuracy                         0.9736       720\n",
      "   macro avg     0.9736    0.9736    0.9736       720\n",
      "weighted avg     0.9736    0.9736    0.9736       720\n",
      "\n",
      "              precision    recall  f1-score   support\n",
      "\n",
      "        fake     0.9638    0.9611    0.9624       360\n",
      "        true     0.9612    0.9639    0.9626       360\n",
      "\n",
      "    accuracy                         0.9625       720\n",
      "   macro avg     0.9625    0.9625    0.9625       720\n",
      "weighted avg     0.9625    0.9625    0.9625       720\n",
      "\n",
      "              precision    recall  f1-score   support\n",
      "\n",
      "        fake     0.9617    0.9778    0.9697       360\n",
      "        true     0.9774    0.9611    0.9692       360\n",
      "\n",
      "    accuracy                         0.9694       720\n",
      "   macro avg     0.9696    0.9694    0.9694       720\n",
      "weighted avg     0.9696    0.9694    0.9694       720\n",
      "\n",
      "              precision    recall  f1-score   support\n",
      "\n",
      "        fake     0.9663    0.9556    0.9609       360\n",
      "        true     0.9560    0.9667    0.9613       360\n",
      "\n",
      "    accuracy                         0.9611       720\n",
      "   macro avg     0.9612    0.9611    0.9611       720\n",
      "weighted avg     0.9612    0.9611    0.9611       720\n",
      "\n",
      "              precision    recall  f1-score   support\n",
      "\n",
      "        fake     0.9845    0.8833    0.9312       360\n",
      "        true     0.8942    0.9861    0.9379       360\n",
      "\n",
      "    accuracy                         0.9347       720\n",
      "   macro avg     0.9394    0.9347    0.9345       720\n",
      "weighted avg     0.9394    0.9347    0.9345       720\n",
      "\n",
      "              precision    recall  f1-score   support\n",
      "\n",
      "        fake     0.9768    0.9361    0.9560       360\n",
      "        true     0.9387    0.9778    0.9578       360\n",
      "\n",
      "    accuracy                         0.9569       720\n",
      "   macro avg     0.9577    0.9569    0.9569       720\n",
      "weighted avg     0.9577    0.9569    0.9569       720\n",
      "\n",
      "              precision    recall  f1-score   support\n",
      "\n",
      "        fake     0.9608    0.9528    0.9568       360\n",
      "        true     0.9532    0.9611    0.9571       360\n",
      "\n",
      "    accuracy                         0.9569       720\n",
      "   macro avg     0.9570    0.9569    0.9569       720\n",
      "weighted avg     0.9570    0.9569    0.9569       720\n",
      "\n"
     ]
    }
   ],
   "source": [
    "scores = cross_val_score(mlp_clf, tfidf_dataframe, labels, cv=10, scoring=make_scorer(classification_report_folds))"
   ]
  },
  {
   "cell_type": "code",
   "execution_count": 7,
   "metadata": {},
   "outputs": [
    {
     "name": "stdout",
     "output_type": "stream",
     "text": [
      "              precision    recall  f1-score   support\n",
      "\n",
      "        fake     0.9694    0.9489    0.9590      7200\n",
      "        true     0.9499    0.9700    0.9599      7200\n",
      "\n",
      "    accuracy                         0.9594     14400\n",
      "   macro avg     0.9596    0.9594    0.9594     14400\n",
      "weighted avg     0.9596    0.9594    0.9594     14400\n",
      "\n"
     ]
    },
    {
     "data": {
      "text/plain": [
       "0.9594444444444444"
      ]
     },
     "execution_count": 7,
     "metadata": {},
     "output_type": "execute_result"
    }
   ],
   "source": [
    "# Average over cross-validation folds \n",
    "classification_report_folds(originalclass, predictedclass)"
   ]
  }
 ],
 "metadata": {
  "kernelspec": {
   "display_name": "Python 3.9.13 64-bit",
   "language": "python",
   "name": "python3"
  },
  "language_info": {
   "codemirror_mode": {
    "name": "ipython",
    "version": 3
   },
   "file_extension": ".py",
   "mimetype": "text/x-python",
   "name": "python",
   "nbconvert_exporter": "python",
   "pygments_lexer": "ipython3",
   "version": "3.9.13"
  },
  "orig_nbformat": 4,
  "vscode": {
   "interpreter": {
    "hash": "4b25ff5ca58e485354f9c6e0414fde2bb6a5ae70e7297d0dec72eac74ca8fc9b"
   }
  }
 },
 "nbformat": 4,
 "nbformat_minor": 2
}

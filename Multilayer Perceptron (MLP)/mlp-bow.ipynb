{
 "cells": [
  {
   "cell_type": "code",
   "execution_count": 1,
   "metadata": {},
   "outputs": [],
   "source": [
    "import pandas as pd\n",
    "from sklearn.model_selection import cross_val_score\n",
    "from sklearn.feature_extraction.text import CountVectorizer\n",
    "from sklearn.neural_network import MLPClassifier\n",
    "from sklearn.metrics import classification_report, make_scorer, accuracy_score"
   ]
  },
  {
   "cell_type": "code",
   "execution_count": 2,
   "metadata": {},
   "outputs": [],
   "source": [
    "news = pd.read_csv('Fake.br-Corpus.csv', sep=',')"
   ]
  },
  {
   "cell_type": "code",
   "execution_count": 3,
   "metadata": {},
   "outputs": [],
   "source": [
    "vectorizer = CountVectorizer()\n",
    "bow_matrix = vectorizer.fit_transform(news['preprocessed_news'])\n",
    "bow_dataframe = pd.DataFrame(bow_matrix.toarray(),columns=vectorizer.get_feature_names_out()) "
   ]
  },
  {
   "cell_type": "code",
   "execution_count": 4,
   "metadata": {},
   "outputs": [],
   "source": [
    "mlp_clf = MLPClassifier()\n",
    "labels = news['label']"
   ]
  },
  {
   "cell_type": "code",
   "execution_count": 5,
   "metadata": {},
   "outputs": [],
   "source": [
    "originalclass = []\n",
    "predictedclass = []\n",
    "\n",
    "def classification_report_folds(y_true, y_pred):\n",
    "    originalclass.extend(y_true)\n",
    "    predictedclass.extend(y_pred)\n",
    "    print(classification_report(y_true, y_pred,digits=4))\n",
    "    return accuracy_score(y_true, y_pred)"
   ]
  },
  {
   "cell_type": "code",
   "execution_count": 6,
   "metadata": {},
   "outputs": [
    {
     "name": "stdout",
     "output_type": "stream",
     "text": [
      "              precision    recall  f1-score   support\n",
      "\n",
      "        fake     0.9211    0.9722    0.9459       360\n",
      "        true     0.9706    0.9167    0.9429       360\n",
      "\n",
      "    accuracy                         0.9444       720\n",
      "   macro avg     0.9458    0.9444    0.9444       720\n",
      "weighted avg     0.9458    0.9444    0.9444       720\n",
      "\n",
      "              precision    recall  f1-score   support\n",
      "\n",
      "        fake     0.9093    0.9750    0.9410       360\n",
      "        true     0.9731    0.9028    0.9366       360\n",
      "\n",
      "    accuracy                         0.9389       720\n",
      "   macro avg     0.9412    0.9389    0.9388       720\n",
      "weighted avg     0.9412    0.9389    0.9388       720\n",
      "\n",
      "              precision    recall  f1-score   support\n",
      "\n",
      "        fake     0.8858    0.9694    0.9257       360\n",
      "        true     0.9663    0.8750    0.9184       360\n",
      "\n",
      "    accuracy                         0.9222       720\n",
      "   macro avg     0.9260    0.9222    0.9220       720\n",
      "weighted avg     0.9260    0.9222    0.9220       720\n",
      "\n",
      "              precision    recall  f1-score   support\n",
      "\n",
      "        fake     0.8965    0.9861    0.9392       360\n",
      "        true     0.9846    0.8861    0.9327       360\n",
      "\n",
      "    accuracy                         0.9361       720\n",
      "   macro avg     0.9405    0.9361    0.9360       720\n",
      "weighted avg     0.9405    0.9361    0.9360       720\n",
      "\n",
      "              precision    recall  f1-score   support\n",
      "\n",
      "        fake     0.8974    0.9722    0.9333       360\n",
      "        true     0.9697    0.8889    0.9275       360\n",
      "\n",
      "    accuracy                         0.9306       720\n",
      "   macro avg     0.9336    0.9306    0.9304       720\n",
      "weighted avg     0.9336    0.9306    0.9304       720\n",
      "\n",
      "              precision    recall  f1-score   support\n",
      "\n",
      "        fake     0.9133    0.9944    0.9521       360\n",
      "        true     0.9939    0.9056    0.9477       360\n",
      "\n",
      "    accuracy                         0.9500       720\n",
      "   macro avg     0.9536    0.9500    0.9499       720\n",
      "weighted avg     0.9536    0.9500    0.9499       720\n",
      "\n",
      "              precision    recall  f1-score   support\n",
      "\n",
      "        fake     0.9211    0.9722    0.9459       360\n",
      "        true     0.9706    0.9167    0.9429       360\n",
      "\n",
      "    accuracy                         0.9444       720\n",
      "   macro avg     0.9458    0.9444    0.9444       720\n",
      "weighted avg     0.9458    0.9444    0.9444       720\n",
      "\n",
      "              precision    recall  f1-score   support\n",
      "\n",
      "        fake     0.9599    0.9306    0.9450       360\n",
      "        true     0.9326    0.9611    0.9466       360\n",
      "\n",
      "    accuracy                         0.9458       720\n",
      "   macro avg     0.9462    0.9458    0.9458       720\n",
      "weighted avg     0.9462    0.9458    0.9458       720\n",
      "\n",
      "              precision    recall  f1-score   support\n",
      "\n",
      "        fake     0.9062    0.9667    0.9355       360\n",
      "        true     0.9643    0.9000    0.9310       360\n",
      "\n",
      "    accuracy                         0.9333       720\n",
      "   macro avg     0.9353    0.9333    0.9333       720\n",
      "weighted avg     0.9353    0.9333    0.9333       720\n",
      "\n",
      "              precision    recall  f1-score   support\n",
      "\n",
      "        fake     0.9169    0.9806    0.9477       360\n",
      "        true     0.9791    0.9111    0.9439       360\n",
      "\n",
      "    accuracy                         0.9458       720\n",
      "   macro avg     0.9480    0.9458    0.9458       720\n",
      "weighted avg     0.9480    0.9458    0.9458       720\n",
      "\n"
     ]
    }
   ],
   "source": [
    "scores = cross_val_score(mlp_clf, bow_dataframe, labels, cv=10, scoring=make_scorer(classification_report_folds))"
   ]
  },
  {
   "cell_type": "code",
   "execution_count": 7,
   "metadata": {},
   "outputs": [
    {
     "name": "stdout",
     "output_type": "stream",
     "text": [
      "              precision    recall  f1-score   support\n",
      "\n",
      "        fake     0.9121    0.9719    0.9411      7200\n",
      "        true     0.9700    0.9064    0.9371      7200\n",
      "\n",
      "    accuracy                         0.9392     14400\n",
      "   macro avg     0.9411    0.9392    0.9391     14400\n",
      "weighted avg     0.9411    0.9392    0.9391     14400\n",
      "\n"
     ]
    },
    {
     "data": {
      "text/plain": [
       "0.9391666666666667"
      ]
     },
     "execution_count": 7,
     "metadata": {},
     "output_type": "execute_result"
    }
   ],
   "source": [
    "# Average over cross-validation folds \n",
    "classification_report_folds(originalclass, predictedclass)"
   ]
  }
 ],
 "metadata": {
  "kernelspec": {
   "display_name": "Python 3.9.13 64-bit",
   "language": "python",
   "name": "python3"
  },
  "language_info": {
   "codemirror_mode": {
    "name": "ipython",
    "version": 3
   },
   "file_extension": ".py",
   "mimetype": "text/x-python",
   "name": "python",
   "nbconvert_exporter": "python",
   "pygments_lexer": "ipython3",
   "version": "3.9.13"
  },
  "orig_nbformat": 4,
  "vscode": {
   "interpreter": {
    "hash": "4b25ff5ca58e485354f9c6e0414fde2bb6a5ae70e7297d0dec72eac74ca8fc9b"
   }
  }
 },
 "nbformat": 4,
 "nbformat_minor": 2
}

{
  "cells": [
    {
      "cell_type": "code",
      "execution_count": 1,
      "metadata": {
        "id": "j1HE_OvSqESX"
      },
      "outputs": [],
      "source": [
        "import pandas as pd\n",
        "from sklearn.model_selection import cross_val_score\n",
        "from sklearn.metrics import classification_report, make_scorer, accuracy_score\n",
        "from sklearn.feature_extraction.text import CountVectorizer\n",
        "from sklearn.linear_model import LogisticRegression"
      ]
    },
    {
      "cell_type": "code",
      "execution_count": 2,
      "metadata": {
        "colab": {
          "base_uri": "https://localhost:8080/",
          "height": 206
        },
        "id": "KOBi3dBFqNwr",
        "outputId": "f003b999-d4b1-4227-e6f6-c3fbb302470d"
      },
      "outputs": [],
      "source": [
        "news = pd.read_csv('Fake.br-Corpus.csv', sep=',')"
      ]
    },
    {
      "cell_type": "code",
      "execution_count": 3,
      "metadata": {
        "id": "CgldLhABvuut"
      },
      "outputs": [],
      "source": [
        "vectorizer = CountVectorizer()\n",
        "bow_matrix = vectorizer.fit_transform(news['preprocessed_news'])\n",
        "bow_dataframe = pd.DataFrame(bow_matrix.toarray(),columns=vectorizer.get_feature_names_out()) "
      ]
    },
    {
      "cell_type": "code",
      "execution_count": 4,
      "metadata": {
        "id": "zTcgfvIErQJ9"
      },
      "outputs": [],
      "source": [
        "lr = LogisticRegression(random_state=0, solver='saga', multi_class= 'ovr', max_iter=10000)\n",
        "labels = news['label']"
      ]
    },
    {
      "cell_type": "code",
      "execution_count": 5,
      "metadata": {
        "colab": {
          "base_uri": "https://localhost:8080/"
        },
        "id": "xPBYegaqtiDv",
        "outputId": "7468878c-570f-4b8a-e161-95e840002cdd"
      },
      "outputs": [],
      "source": [
        "originalclass = []\n",
        "predictedclass = []\n",
        "\n",
        "def classification_report_folds(y_true, y_pred):\n",
        "    originalclass.extend(y_true)\n",
        "    predictedclass.extend(y_pred)\n",
        "    print(classification_report(y_true, y_pred,digits=4))\n",
        "    return accuracy_score(y_true, y_pred)"
      ]
    },
    {
      "cell_type": "code",
      "execution_count": 6,
      "metadata": {},
      "outputs": [
        {
          "name": "stdout",
          "output_type": "stream",
          "text": [
            "              precision    recall  f1-score   support\n",
            "\n",
            "        fake     0.9537    0.9722    0.9629       360\n",
            "        true     0.9717    0.9528    0.9621       360\n",
            "\n",
            "    accuracy                         0.9625       720\n",
            "   macro avg     0.9627    0.9625    0.9625       720\n",
            "weighted avg     0.9627    0.9625    0.9625       720\n",
            "\n",
            "              precision    recall  f1-score   support\n",
            "\n",
            "        fake     0.9534    0.9667    0.9600       360\n",
            "        true     0.9662    0.9528    0.9594       360\n",
            "\n",
            "    accuracy                         0.9597       720\n",
            "   macro avg     0.9598    0.9597    0.9597       720\n",
            "weighted avg     0.9598    0.9597    0.9597       720\n",
            "\n",
            "              precision    recall  f1-score   support\n",
            "\n",
            "        fake     0.9387    0.9778    0.9578       360\n",
            "        true     0.9768    0.9361    0.9560       360\n",
            "\n",
            "    accuracy                         0.9569       720\n",
            "   macro avg     0.9577    0.9569    0.9569       720\n",
            "weighted avg     0.9577    0.9569    0.9569       720\n",
            "\n",
            "              precision    recall  f1-score   support\n",
            "\n",
            "        fake     0.9572    0.9944    0.9755       360\n",
            "        true     0.9942    0.9556    0.9745       360\n",
            "\n",
            "    accuracy                         0.9750       720\n",
            "   macro avg     0.9757    0.9750    0.9750       720\n",
            "weighted avg     0.9757    0.9750    0.9750       720\n",
            "\n",
            "              precision    recall  f1-score   support\n",
            "\n",
            "        fake     0.9468    0.9889    0.9674       360\n",
            "        true     0.9884    0.9444    0.9659       360\n",
            "\n",
            "    accuracy                         0.9667       720\n",
            "   macro avg     0.9676    0.9667    0.9667       720\n",
            "weighted avg     0.9676    0.9667    0.9667       720\n",
            "\n",
            "              precision    recall  f1-score   support\n",
            "\n",
            "        fake     0.9545    0.9917    0.9728       360\n",
            "        true     0.9913    0.9528    0.9717       360\n",
            "\n",
            "    accuracy                         0.9722       720\n",
            "   macro avg     0.9729    0.9722    0.9722       720\n",
            "weighted avg     0.9729    0.9722    0.9722       720\n",
            "\n",
            "              precision    recall  f1-score   support\n",
            "\n",
            "        fake     0.9669    0.9750    0.9710       360\n",
            "        true     0.9748    0.9667    0.9707       360\n",
            "\n",
            "    accuracy                         0.9708       720\n",
            "   macro avg     0.9709    0.9708    0.9708       720\n",
            "weighted avg     0.9709    0.9708    0.9708       720\n",
            "\n",
            "              precision    recall  f1-score   support\n",
            "\n",
            "        fake     0.9721    0.9694    0.9708       360\n",
            "        true     0.9695    0.9722    0.9709       360\n",
            "\n",
            "    accuracy                         0.9708       720\n",
            "   macro avg     0.9708    0.9708    0.9708       720\n",
            "weighted avg     0.9708    0.9708    0.9708       720\n",
            "\n",
            "              precision    recall  f1-score   support\n",
            "\n",
            "        fake     0.9692    0.9611    0.9651       360\n",
            "        true     0.9614    0.9694    0.9654       360\n",
            "\n",
            "    accuracy                         0.9653       720\n",
            "   macro avg     0.9653    0.9653    0.9653       720\n",
            "weighted avg     0.9653    0.9653    0.9653       720\n",
            "\n",
            "              precision    recall  f1-score   support\n",
            "\n",
            "        fake     0.9562    0.9694    0.9628       360\n",
            "        true     0.9690    0.9556    0.9622       360\n",
            "\n",
            "    accuracy                         0.9625       720\n",
            "   macro avg     0.9626    0.9625    0.9625       720\n",
            "weighted avg     0.9626    0.9625    0.9625       720\n",
            "\n"
          ]
        }
      ],
      "source": [
        "scores = cross_val_score(lr, bow_dataframe, labels, cv=10, scoring=make_scorer(classification_report_folds))"
      ]
    },
    {
      "cell_type": "code",
      "execution_count": 7,
      "metadata": {},
      "outputs": [
        {
          "name": "stdout",
          "output_type": "stream",
          "text": [
            "              precision    recall  f1-score   support\n",
            "\n",
            "        fake     0.9567    0.9767    0.9666      7200\n",
            "        true     0.9762    0.9558    0.9659      7200\n",
            "\n",
            "    accuracy                         0.9663     14400\n",
            "   macro avg     0.9665    0.9663    0.9662     14400\n",
            "weighted avg     0.9665    0.9663    0.9662     14400\n",
            "\n"
          ]
        },
        {
          "data": {
            "text/plain": [
              "0.96625"
            ]
          },
          "execution_count": 7,
          "metadata": {},
          "output_type": "execute_result"
        }
      ],
      "source": [
        "# Average over cross-validation folds \n",
        "classification_report_folds(originalclass, predictedclass)"
      ]
    }
  ],
  "metadata": {
    "colab": {
      "name": "bow_lr.ipynb",
      "provenance": []
    },
    "kernelspec": {
      "display_name": "Python 3.9.13 64-bit",
      "language": "python",
      "name": "python3"
    },
    "language_info": {
      "codemirror_mode": {
        "name": "ipython",
        "version": 3
      },
      "file_extension": ".py",
      "mimetype": "text/x-python",
      "name": "python",
      "nbconvert_exporter": "python",
      "pygments_lexer": "ipython3",
      "version": "3.9.13"
    },
    "vscode": {
      "interpreter": {
        "hash": "4b25ff5ca58e485354f9c6e0414fde2bb6a5ae70e7297d0dec72eac74ca8fc9b"
      }
    }
  },
  "nbformat": 4,
  "nbformat_minor": 0
}

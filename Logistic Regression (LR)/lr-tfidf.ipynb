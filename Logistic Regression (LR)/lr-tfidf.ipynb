{
  "cells": [
    {
      "cell_type": "code",
      "execution_count": null,
      "metadata": {
        "id": "UbBTYmmj6SgI"
      },
      "outputs": [],
      "source": [
        "import pandas as pd\n",
        "from sklearn.feature_extraction.text import TfidfVectorizer\n",
        "from sklearn.model_selection import cross_val_score\n",
        "from sklearn.metrics import classification_report, make_scorer, accuracy_score\n",
        "from sklearn.linear_model import LogisticRegression"
      ]
    },
    {
      "cell_type": "code",
      "execution_count": null,
      "metadata": {
        "id": "cfnuaOR_6zLi"
      },
      "outputs": [],
      "source": [
        "news = pd.read_csv('Fake.br-Corpus.csv', sep=',')"
      ]
    },
    {
      "cell_type": "code",
      "execution_count": null,
      "metadata": {
        "id": "lw9LENs87ABo"
      },
      "outputs": [],
      "source": [
        "vectorizer = TfidfVectorizer()\n",
        "tfidf_matrix = vectorizer.fit_transform(news['preprocessed_news'])\n",
        "tfidf_dataframe = pd.DataFrame(tfidf_matrix.toarray(),columns=vectorizer.get_feature_names_out())"
      ]
    },
    {
      "cell_type": "code",
      "execution_count": null,
      "metadata": {
        "id": "QbkqzR-57B_g"
      },
      "outputs": [],
      "source": [
        "lr = LogisticRegression(random_state=0, solver='saga', multi_class= 'ovr',max_iter=10000)\n",
        "labels = news['label']"
      ]
    },
    {
      "cell_type": "code",
      "execution_count": null,
      "metadata": {
        "id": "QwlGdM-N7Gfs"
      },
      "outputs": [],
      "source": [
        "originalclass = []\n",
        "predictedclass = []\n",
        "\n",
        "def classification_report_folds(y_true, y_pred):\n",
        "    originalclass.extend(y_true)\n",
        "    predictedclass.extend(y_pred)\n",
        "    print(classification_report(y_true, y_pred,digits=4))\n",
        "    return accuracy_score(y_true, y_pred)"
      ]
    },
    {
      "cell_type": "code",
      "execution_count": null,
      "metadata": {
        "id": "DbSvtIUX7H_H",
        "colab": {
          "base_uri": "https://localhost:8080/"
        },
        "outputId": "d1bcbfd3-6915-4afb-aec5-9c0aa359edef"
      },
      "outputs": [
        {
          "output_type": "stream",
          "name": "stdout",
          "text": [
            "              precision    recall  f1-score   support\n",
            "\n",
            "        fake     0.9478    0.9583    0.9530       360\n",
            "        true     0.9579    0.9472    0.9525       360\n",
            "\n",
            "    accuracy                         0.9528       720\n",
            "   macro avg     0.9528    0.9528    0.9528       720\n",
            "weighted avg     0.9528    0.9528    0.9528       720\n",
            "\n",
            "              precision    recall  f1-score   support\n",
            "\n",
            "        fake     0.9511    0.9722    0.9615       360\n",
            "        true     0.9716    0.9500    0.9607       360\n",
            "\n",
            "    accuracy                         0.9611       720\n",
            "   macro avg     0.9613    0.9611    0.9611       720\n",
            "weighted avg     0.9613    0.9611    0.9611       720\n",
            "\n",
            "              precision    recall  f1-score   support\n",
            "\n",
            "        fake     0.9000    0.9750    0.9360       360\n",
            "        true     0.9727    0.8917    0.9304       360\n",
            "\n",
            "    accuracy                         0.9333       720\n",
            "   macro avg     0.9364    0.9333    0.9332       720\n",
            "weighted avg     0.9364    0.9333    0.9332       720\n",
            "\n",
            "              precision    recall  f1-score   support\n",
            "\n",
            "        fake     0.9367    0.9861    0.9608       360\n",
            "        true     0.9853    0.9333    0.9586       360\n",
            "\n",
            "    accuracy                         0.9597       720\n",
            "   macro avg     0.9610    0.9597    0.9597       720\n",
            "weighted avg     0.9610    0.9597    0.9597       720\n",
            "\n",
            "              precision    recall  f1-score   support\n",
            "\n",
            "        fake     0.9291    0.9833    0.9555       360\n",
            "        true     0.9823    0.9250    0.9528       360\n",
            "\n",
            "    accuracy                         0.9542       720\n",
            "   macro avg     0.9557    0.9542    0.9541       720\n",
            "weighted avg     0.9557    0.9542    0.9541       720\n",
            "\n",
            "              precision    recall  f1-score   support\n",
            "\n",
            "        fake     0.9225    0.9917    0.9558       360\n",
            "        true     0.9910    0.9167    0.9524       360\n",
            "\n",
            "    accuracy                         0.9542       720\n",
            "   macro avg     0.9567    0.9542    0.9541       720\n",
            "weighted avg     0.9567    0.9542    0.9541       720\n",
            "\n",
            "              precision    recall  f1-score   support\n",
            "\n",
            "        fake     0.9481    0.9639    0.9559       360\n",
            "        true     0.9633    0.9472    0.9552       360\n",
            "\n",
            "    accuracy                         0.9556       720\n",
            "   macro avg     0.9557    0.9556    0.9556       720\n",
            "weighted avg     0.9557    0.9556    0.9556       720\n",
            "\n",
            "              precision    recall  f1-score   support\n",
            "\n",
            "        fake     0.9466    0.9361    0.9413       360\n",
            "        true     0.9368    0.9472    0.9420       360\n",
            "\n",
            "    accuracy                         0.9417       720\n",
            "   macro avg     0.9417    0.9417    0.9417       720\n",
            "weighted avg     0.9417    0.9417    0.9417       720\n",
            "\n",
            "              precision    recall  f1-score   support\n",
            "\n",
            "        fake     0.9339    0.9417    0.9378       360\n",
            "        true     0.9412    0.9333    0.9372       360\n",
            "\n",
            "    accuracy                         0.9375       720\n",
            "   macro avg     0.9375    0.9375    0.9375       720\n",
            "weighted avg     0.9375    0.9375    0.9375       720\n",
            "\n",
            "              precision    recall  f1-score   support\n",
            "\n",
            "        fake     0.9514    0.9778    0.9644       360\n",
            "        true     0.9771    0.9500    0.9634       360\n",
            "\n",
            "    accuracy                         0.9639       720\n",
            "   macro avg     0.9642    0.9639    0.9639       720\n",
            "weighted avg     0.9642    0.9639    0.9639       720\n",
            "\n"
          ]
        }
      ],
      "source": [
        "scores = cross_val_score(lr, tfidf_dataframe, labels, cv=10, scoring=make_scorer(classification_report_folds))"
      ]
    },
    {
      "cell_type": "code",
      "execution_count": null,
      "metadata": {
        "id": "gk0UGQfZiCrO",
        "colab": {
          "base_uri": "https://localhost:8080/"
        },
        "outputId": "c5670ac8-2fd9-479d-ef52-c925e6520eae"
      },
      "outputs": [
        {
          "output_type": "stream",
          "name": "stdout",
          "text": [
            "              precision    recall  f1-score   support\n",
            "\n",
            "        fake     0.9364    0.9686    0.9522      7200\n",
            "        true     0.9675    0.9342    0.9505      7200\n",
            "\n",
            "    accuracy                         0.9514     14400\n",
            "   macro avg     0.9519    0.9514    0.9514     14400\n",
            "weighted avg     0.9519    0.9514    0.9514     14400\n",
            "\n"
          ]
        },
        {
          "output_type": "execute_result",
          "data": {
            "text/plain": [
              "0.9513888888888888"
            ]
          },
          "metadata": {},
          "execution_count": 8
        }
      ],
      "source": [
        "# Average over cross-validation folds \n",
        "classification_report_folds(originalclass, predictedclass)"
      ]
    }
  ],
  "metadata": {
    "colab": {
      "provenance": []
    },
    "kernelspec": {
      "display_name": "Python 3.9.13 64-bit",
      "language": "python",
      "name": "python3"
    },
    "language_info": {
      "codemirror_mode": {
        "name": "ipython",
        "version": 3
      },
      "file_extension": ".py",
      "mimetype": "text/x-python",
      "name": "python",
      "nbconvert_exporter": "python",
      "pygments_lexer": "ipython3",
      "version": "3.9.13"
    },
    "vscode": {
      "interpreter": {
        "hash": "4b25ff5ca58e485354f9c6e0414fde2bb6a5ae70e7297d0dec72eac74ca8fc9b"
      }
    }
  },
  "nbformat": 4,
  "nbformat_minor": 0
}